{
 "cells": [
  {
   "cell_type": "code",
   "execution_count": 1,
   "metadata": {},
   "outputs": [],
   "source": [
    "import numpy as np\n",
    "\n",
    "def simulations(number_of_simulations, simulations_price,sku_numbers, weeks ):\n",
    "    E_earn_moneny = np.zeros([number_of_simulations])\n",
    "    for j in range(number_of_simulations):\n",
    "        sku_number = sku_numbers.copy()\n",
    "        week = weeks\n",
    "        earn_moneny= 0\n",
    "        customer_arrive_last_2 = np.random.normal(loc=2000, scale=400,size=2).astype(np.int)\n",
    "        customer_arrive_first_8 = np.random.normal(loc=1000, scale=200,size=8).astype(np.int)\n",
    "        customer_willingness_price_first_6 = np.random.uniform(low=0.0, high=1000, size=None)\n",
    "        customer_willingness_price_last_4 = np.random.uniform(low=0.0, high=600, size=None)\n",
    "    #     \n",
    "        for i in range(week,10):\n",
    "            price = simulations_price[i-1]\n",
    "            if week <8:\n",
    "                customs_number = customer_arrive_first_8[week]\n",
    "            if week>=8:\n",
    "                customs_number = customer_arrive_last_2[week-8]\n",
    "            show_interests_number = customs_number//50\n",
    "            if week <6:\n",
    "                for i in range(show_interests_number):\n",
    "                    customer_willingness_price = np.random.uniform(low=0.0, high=1000, size=None)\n",
    "#                     print(customer_willingness_price,sku_number,price )\n",
    "                    if customer_willingness_price>=price:\n",
    "                        sku_style = np.random.choice([0,1,2])\n",
    "                        if sku_number[sku_style]>=1:\n",
    "                            earn_moneny+=price\n",
    "                            sku_number[sku_style] = sku_number[sku_style]-1\n",
    "            if week>=6:\n",
    "                for i in range(show_interests_number):\n",
    "                    customer_willingness_price = np.random.uniform(low=0.0, high=600, size=None)\n",
    "#                     print(customer_willingness_price,sku_number,price )\n",
    "                    if customer_willingness_price>=price:\n",
    "                        sku_style = np.random.choice([0,1,2])\n",
    "                        if sku_number[sku_style]>=1:\n",
    "                            earn_moneny+=price\n",
    "                            sku_number[sku_style] = sku_number[sku_style]-1\n",
    "            week += 1\n",
    "            \n",
    "        E_earn_moneny[j] = earn_moneny\n",
    "    return E_earn_moneny\n",
    "\n",
    "# simulations(number_of_simulations=10000, simulations_price=[999, 899, 799, 699, 599, 499, 399, 299, 199, 99],\n",
    "#             sku_numbers=[10,10,10], weeks=1)\n",
    "\n",
    "    "
   ]
  },
  {
   "cell_type": "code",
   "execution_count": 6,
   "metadata": {},
   "outputs": [
    {
     "name": "stdout",
     "output_type": "stream",
     "text": [
      "in this running, we get the best_strategy is [499, 799, 699, 599, 399, 99, 199, 999, 899, 299], the earn_money is 16962.0 \n"
     ]
    }
   ],
   "source": [
    "def get_best_price(number_of_test, number_of_simulations,sku_numbers,weeks):\n",
    "    Strategy = []\n",
    "    best_price = 0\n",
    "    best_strategy = None\n",
    "    for i in range(100):\n",
    "        prices = [999, 899, 799, 699, 599, 499, 399, 299, 199, 99]\n",
    "        np.random.shuffle(prices)\n",
    "        simulations_price = prices\n",
    "        E_earn_moneny = simulations(number_of_simulations=number_of_simulations, simulations_price=simulations_price,sku_numbers=sku_numbers, weeks=weeks)\n",
    "        Strategy.append([simulations_price,np.mean(E_earn_moneny) ])\n",
    "        if best_price < np.mean(E_earn_moneny):\n",
    "            best_price = np.mean(E_earn_moneny).copy()\n",
    "            best_strategy = simulations_price[weeks-1:]\n",
    "    \n",
    "    return best_strategy,best_price, Strategy\n",
    "            \n",
    "        \n",
    "best_strategy,best_price, Strategy = get_best_price(number_of_test=1000000, number_of_simulations=50,sku_numbers=[10,10,10],weeks=1)\n",
    "print('in this running, we get the best_strategy is {}, the earn_money is {} '.format(best_strategy,best_price))"
   ]
  },
  {
   "cell_type": "code",
   "execution_count": null,
   "metadata": {},
   "outputs": [],
   "source": []
  },
  {
   "cell_type": "code",
   "execution_count": null,
   "metadata": {},
   "outputs": [],
   "source": []
  }
 ],
 "metadata": {
  "kernelspec": {
   "display_name": "Python 3",
   "language": "python",
   "name": "python3"
  },
  "language_info": {
   "codemirror_mode": {
    "name": "ipython",
    "version": 3
   },
   "file_extension": ".py",
   "mimetype": "text/x-python",
   "name": "python",
   "nbconvert_exporter": "python",
   "pygments_lexer": "ipython3",
   "version": "3.8.5"
  }
 },
 "nbformat": 4,
 "nbformat_minor": 2
}
